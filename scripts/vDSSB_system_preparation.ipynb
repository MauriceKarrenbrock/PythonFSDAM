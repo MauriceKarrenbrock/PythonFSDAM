{
 "cells": [
  {
   "cell_type": "markdown",
   "id": "compact-flooring",
   "metadata": {},
   "source": [
    "# Prepare a Protein Ligand system for vDSSB and standard NEW-FSDAM\n",
    "\n",
    "This is a template, preparing a system for openmm can be complex and there can be a lot of variables to consider, therefore you might need to adapt it to your needs\n",
    "\n",
    "And remember to read everything carefully, this process is far from being automatic!!"
   ]
  },
  {
   "cell_type": "code",
   "execution_count": null,
   "id": "postal-going",
   "metadata": {},
   "outputs": [],
   "source": [
    "import pdbfixer\n",
    "from simtk import unit, openmm\n",
    "from simtk.openmm import app, Platform, LangevinIntegrator, XmlSerializer\n",
    "from simtk.openmm.app import PDBFile, Simulation, Modeller, StateDataReporter, ForceField\n",
    "import mdtraj\n",
    "from openff.toolkit.topology import Molecule\n",
    "from openmmforcefields.generators import GAFFTemplateGenerator, SMIRNOFFTemplateGenerator\n",
    "import numpy as np\n",
    "from openmmtools import testsystems\n",
    "from openmmtools.integrators import VelocityVerletIntegrator\n",
    "from openmmtools.states import ThermodynamicState\n",
    "import parmed\n",
    "import sys\n",
    "import time"
   ]
  },
  {
   "cell_type": "code",
   "execution_count": null,
   "id": "agricultural-aruba",
   "metadata": {},
   "outputs": [],
   "source": [
    "#this 2 files must be given as input\n",
    "protein_ligand_pdb = ''\n",
    "#atoms must be in the same order as in the protein_ligand_pdb (you can help yourself with openbabel)\n",
    "ligand_sdf_file = ''\n",
    "ligand_resname = ''\n",
    "\n",
    "#this files will be created by the script\n",
    "only_protein_pdb = 'only_protein.pdb'\n",
    "only_ligand_pdb = 'only_ligand.pdb'"
   ]
  },
  {
   "cell_type": "code",
   "execution_count": null,
   "id": "peaceful-blanket",
   "metadata": {},
   "outputs": [],
   "source": [
    "protein_forcefields = ['amber/ff14SB.xml']\n",
    "water_forcefields = ['amber/tip3p_standard.xml']\n",
    "water_type = 'tip3p'\n",
    "ligand_forcefield = 'gaff-2.11'"
   ]
  },
  {
   "cell_type": "markdown",
   "id": "terminal-paper",
   "metadata": {},
   "source": [
    "## Repair the PDB file if needed\n",
    "also changes atom and residue names to standard ones"
   ]
  },
  {
   "cell_type": "code",
   "execution_count": null,
   "id": "balanced-smart",
   "metadata": {},
   "outputs": [],
   "source": [
    "def pdb_repair(input_file_name, output_file_name, add_H=True, ph = 7.0):\n",
    "    \"\"\"repairs a PDB file with pdbfixer\n",
    "\n",
    "    input_file_name : str\n",
    "        the pdb or mmcif file to be repaired\n",
    "    output_file_name : str\n",
    "        the name of the new structure file that will be created\n",
    "    add_H : bool, default True\n",
    "        if True pdbfixer will add hydrogens according to ph\n",
    "    ph : float, default 7.0\n",
    "        if add_H == True this is the pH value that will be used to add hydrogens\n",
    "    \"\"\"\n",
    "\n",
    "    with open(input_file_name, 'r') as f:\n",
    "        fixer = pdbfixer.PDBFixer(pdbfile = f)\n",
    "\n",
    "    fixer.findMissingResidues()\n",
    "\n",
    "    fixer.findNonstandardResidues()\n",
    "\n",
    "    fixer.replaceNonstandardResidues()\n",
    "\n",
    "    #fixer.removeHeterogens(False)\n",
    "\n",
    "    fixer.findMissingAtoms()\n",
    "\n",
    "    fixer.addMissingAtoms()\n",
    "\n",
    "    if add_H:\n",
    "        fixer.addMissingHydrogens(ph)\n",
    "\n",
    "    #fixer.addSolvent(fixer.topology.getUnitCellDimensions())\n",
    "\n",
    "    \n",
    "    with open(output_file_name, 'w') as f:\n",
    "        PDBFile.writeFile(fixer.topology, fixer.positions, f, keepIds = True)\n"
   ]
  },
  {
   "cell_type": "code",
   "execution_count": null,
   "id": "reasonable-austin",
   "metadata": {},
   "outputs": [],
   "source": [
    "#will overwrite the input file!!!\n",
    "pdb_repair(protein_ligand_pdb, protein_ligand_pdb, add_H=True, ph = 7.0)"
   ]
  },
  {
   "cell_type": "markdown",
   "id": "blocked-celebration",
   "metadata": {},
   "source": [
    "# divide in protein and ligand pdb\n",
    "\n",
    "Change the selection strings accordingly to your system, 'protein' often doesn't work as expected!"
   ]
  },
  {
   "cell_type": "code",
   "execution_count": null,
   "id": "atmospheric-guarantee",
   "metadata": {},
   "outputs": [],
   "source": [
    "trj = mdtraj.load(protein_ligand_pdb)\n",
    "\n",
    "#ATTENTION! the 'protein' selection works only in simple cases with no ions involved\n",
    "# adapt the selection string to your needs!\n",
    "trj.atom_slice(trj.top.select('protein')).save(only_protein_pdb)\n",
    "trj.atom_slice(trj.top.select(f'resname {ligand_resname}')).save(only_ligand_pdb)\n",
    "\n",
    "del trj"
   ]
  },
  {
   "cell_type": "markdown",
   "id": "included-chinese",
   "metadata": {},
   "source": [
    "# The function to equilibrate\n",
    "\n",
    "Equilibrating on a Jupyter notebook can be VERY slow, do it only if you think it is a good idea"
   ]
  },
  {
   "cell_type": "code",
   "execution_count": null,
   "id": "bound-wholesale",
   "metadata": {},
   "outputs": [],
   "source": [
    "#This function has been readapted from\n",
    "# https://github.com/tdudgeon/simple-simulate-complex\n",
    "def equilibrate(input_pdb,\n",
    "                system_xml,\n",
    "                output_pdb='output.pdb',\n",
    "                timestep=1.5 * unit.femtoseconds,\n",
    "                nsteps=3500,\n",
    "                minimize=True,\n",
    "                temperature=298.15*unit.kelvin,\n",
    "                pressure=1.0*unit.atmosphere):\n",
    "    \n",
    "    pdb = PDBFile(input_pdb)\n",
    "\n",
    "    with open(system_xml, 'r') as fp:\n",
    "\n",
    "        string = ''.join(fp.readlines())\n",
    "        system = openmm.XmlSerializer.deserialize(string)\n",
    "    \n",
    "    print('Use PBC:', system.usesPeriodicBoundaryConditions())\n",
    "\n",
    "    integrator = VelocityVerletIntegrator(timestep)\n",
    "\n",
    "    term_state = ThermodynamicState(system=system,\n",
    "                                temperature=temperature,\n",
    "                                pressure=pressure)\n",
    "\n",
    "    print('Default Periodic box vectors:', system.getDefaultPeriodicBoxVectors())\n",
    "\n",
    "    simulation = Simulation(pdb.topology, term_state.system, integrator)\n",
    "    context = simulation.context\n",
    "    context.setPositions(pdb.positions)\n",
    "    term_state.apply_to_context(context)\n",
    "\n",
    "    if minimize:\n",
    "        print('Minimising ...')\n",
    "        simulation.minimizeEnergy()\n",
    "\n",
    "\n",
    "    # equilibrate\n",
    "    simulation.context.setVelocitiesToTemperature(term_state.temperature)\n",
    "\n",
    "    term_state.apply_to_context(context)\n",
    "    print('Equilibrating ...')\n",
    "\n",
    "    # Run the simulation.\n",
    "    # The enforcePeriodicBox arg to the reporters is important.\n",
    "    # It's a bit counter-intuitive that the value needs to be False, but this is needed to ensure that\n",
    "    # all parts of the simulation end up in the same periodic box when being output.\n",
    "    # simulation.reporters.append(PDBReporter(output_traj_pdb, reporting_interval, enforcePeriodicBox=False))\n",
    "    #simulation.reporters.append(DCDReporter('output_traj.dcd', 1000, enforcePeriodicBox=False))\n",
    "    simulation.reporters.append(StateDataReporter(sys.stdout, 100, step=True, potentialEnergy=True, temperature=True))\n",
    "    t0 = time.time()\n",
    "    simulation.step(nsteps)\n",
    "    t1 = time.time()\n",
    "    print('Simulation complete in', t1 - t0, 'seconds at')\n",
    "\n",
    "\n",
    "    with open(output_pdb, 'w') as outfile:\n",
    "        PDBFile.writeFile(pdb.topology, context.getState(getPositions=True, enforcePeriodicBox=False).getPositions(), file=outfile, keepIds=True)"
   ]
  },
  {
   "cell_type": "markdown",
   "id": "motivated-dietary",
   "metadata": {},
   "source": [
    "# a useful function\n",
    "\n",
    "OpenMM loves to have the atom coordinates starting from 0,0,0 and therefore this function will be used as no tomorrow"
   ]
  },
  {
   "cell_type": "code",
   "execution_count": null,
   "id": "upset-standard",
   "metadata": {},
   "outputs": [],
   "source": [
    "def scale_positions_and_update_box_vectors(positions, topology):\n",
    "\n",
    "    coordinates = np.array(positions / unit.nanometers)\n",
    "\n",
    "    max_coord = []\n",
    "    for i in range(3):\n",
    "\n",
    "        coordinates[:, i] = coordinates[:, i] - np.amin(coordinates[:, i])\n",
    "\n",
    "        max_coord.append(np.amax(coordinates[:, i] + 0.00001))\n",
    "\n",
    "    coordinates = coordinates *  unit.nanometers\n",
    "\n",
    "    positions = coordinates\n",
    "\n",
    "    topology.setUnitCellDimensions(max_coord * unit.nanometers)\n",
    "\n",
    "    return positions, topology"
   ]
  },
  {
   "cell_type": "markdown",
   "id": "right-request",
   "metadata": {},
   "source": [
    "# The ligand\n",
    "\n",
    "## you must choose what you want\n",
    "\n",
    "If you want a ligand solvated in water in order to do a standard NEW-FSDAM or a ligand in vacuum with another pdb of a box of water and a gromacs topology of the ligand solvated in this water in order to do vDSSB you will have to run different cells"
   ]
  },
  {
   "cell_type": "code",
   "execution_count": null,
   "id": "identical-disposition",
   "metadata": {},
   "outputs": [],
   "source": [
    "mol = Molecule.from_file(ligand_sdf_file)\n",
    "\n",
    "mol_positions, mol_topology =  scale_positions_and_update_box_vectors(mol.conformers[0], mol.to_topology().to_openmm())"
   ]
  },
  {
   "cell_type": "code",
   "execution_count": null,
   "id": "adjustable-hardware",
   "metadata": {},
   "outputs": [],
   "source": [
    "print(GAFFTemplateGenerator.INSTALLED_FORCEFIELDS)\n",
    "print('\\n')\n",
    "print(SMIRNOFFTemplateGenerator.INSTALLED_FORCEFIELDS)"
   ]
  },
  {
   "cell_type": "code",
   "execution_count": null,
   "id": "featured-handling",
   "metadata": {},
   "outputs": [],
   "source": [
    "if 'gaff' in ligand_forcefield:\n",
    "    ligand_ff_generator = GAFFTemplateGenerator(mol, forcefield=ligand_forcefield)\n",
    "else:\n",
    "\n",
    "    ligand_ff_generator = SMIRNOFFTemplateGenerator(mol, forcefield=ligand_forcefield)"
   ]
  },
  {
   "cell_type": "code",
   "execution_count": null,
   "id": "scheduled-turkey",
   "metadata": {},
   "outputs": [],
   "source": [
    "system_kwargs = {'constraints': app.HBonds, 'rigidWater': True, 'nonbondedMethod': app.PME}#, 'nonbondedCutoff':0.4*unit.nanometer}"
   ]
  },
  {
   "cell_type": "markdown",
   "id": "detailed-finish",
   "metadata": {},
   "source": [
    "# if you want to do vDSSB run this\n",
    "(ligand gets created in water)"
   ]
  },
  {
   "cell_type": "code",
   "execution_count": null,
   "id": "established-mambo",
   "metadata": {},
   "outputs": [],
   "source": [
    "mol_topology.setUnitCellDimensions([50.0,50.0,50.0] * unit.nanometers)\n",
    "\n",
    "ligand_ff = ForceField()\n",
    "\n",
    "ligand_ff.registerTemplateGenerator(ligand_ff_generator.generator)\n",
    "\n",
    "ligand_system = ligand_ff.createSystem(mol_topology, **system_kwargs)\n",
    "\n",
    "with open('system_only_ligand.xml', 'w') as f:\n",
    "    f.writelines(XmlSerializer.serialize(ligand_system))"
   ]
  },
  {
   "cell_type": "code",
   "execution_count": null,
   "id": "protective-marijuana",
   "metadata": {},
   "outputs": [],
   "source": [
    "water_box = testsystems.WaterBox(box_edge=3.0*unit.nanometers, model=water_type,\n",
    "                                 constrained=False,nonbondedMethod=app.PME, ionic_strength=0*unit.molar)\n",
    "\n",
    "with open('only_water.pdb', 'w') as outfile:\n",
    "    PDBFile.writeFile(water_box.topology, water_box.positions, file=outfile)\n",
    "\n",
    "with open('system_only_water.xml', 'w') as f:\n",
    "    f.writelines(XmlSerializer.serialize(water_box.system))"
   ]
  },
  {
   "cell_type": "code",
   "execution_count": null,
   "id": "smart-correlation",
   "metadata": {},
   "outputs": [],
   "source": [
    "ligand_modeller = Modeller(water_box.topology, water_box.positions)\n",
    "\n",
    "ligand_modeller.add(mol_topology, mol_positions)\n",
    "\n",
    "ligand_ff = ForceField(*water_forcefields)\n",
    "ligand_ff.registerTemplateGenerator(ligand_ff_generator.generator)\n",
    "\n",
    "ligand_unrestrained_system = ligand_ff.createSystem(ligand_modeller.topology, **{'constraints': None, 'rigidWater': False, 'nonbondedMethod': app.PME})\n",
    "\n",
    "pmd_structure = parmed.openmm.load_topology(ligand_modeller.topology,\n",
    "system=ligand_unrestrained_system, xyz=ligand_modeller.positions)\n",
    "\n",
    "pmd_structure.save('solv_ligand_top_for_alchemical_creation.top', overwrite=True)\n",
    "\n",
    "del ligand_modeller\n",
    "del pmd_structure\n",
    "del ligand_unrestrained_system\n",
    "del ligand_ff\n",
    "del ligand_system"
   ]
  },
  {
   "cell_type": "code",
   "execution_count": null,
   "id": "suited-opera",
   "metadata": {},
   "outputs": [],
   "source": [
    "equilibrate(input_pdb=only_ligand_pdb,\n",
    "                system_xml='system_only_ligand.xml',\n",
    "                output_pdb='only_ligand_equilibrated.pdb',\n",
    "           pressure=None)"
   ]
  },
  {
   "cell_type": "code",
   "execution_count": null,
   "id": "modern-algebra",
   "metadata": {},
   "outputs": [],
   "source": [
    "equilibrate(input_pdb='only_water.pdb',\n",
    "                system_xml='system_only_water.xml',\n",
    "                output_pdb='only_water.pdb')"
   ]
  },
  {
   "cell_type": "markdown",
   "id": "fatal-intellectual",
   "metadata": {},
   "source": [
    "# If you want to do standard NEW-FSDAM run this\n",
    "(ligand gets annihilated from a box of water)"
   ]
  },
  {
   "cell_type": "code",
   "execution_count": null,
   "id": "substantial-value",
   "metadata": {},
   "outputs": [],
   "source": [
    "ligand_ff = ForceField(*water_forcefields)\n",
    "\n",
    "ligand_ff.registerTemplateGenerator(ligand_ff_generator.generator)\n",
    "\n",
    "ligand_modeller = Modeller(mol_topology, mol_positions)\n",
    "\n",
    "ligand_modeller.addSolvent(ligand_ff, model=water_type, padding=1.0*unit.nanometers, neutralize=False)\n",
    "\n",
    "ligand_modeller.positions, ligand_modeller.topology =  scale_positions_and_update_box_vectors(ligand_modeller.positions, ligand_modeller.topology)\n",
    "\n",
    "ligand_system = ligand_ff.createSystem(ligand_modeller.topology, **system_kwargs)\n",
    "\n",
    "with open('system_solvated_ligand.xml', 'w') as f:\n",
    "    f.writelines(XmlSerializer.serialize(ligand_system))\n",
    "    \n",
    "with open('solvated_ligand.pdb', 'w') as outfile:\n",
    "    PDBFile.writeFile(ligand_modeller.topology, ligand_modeller.positions, file=outfile)\n",
    "    \n",
    "del ligand_modeller\n",
    "del ligand_ff\n",
    "del ligand_system"
   ]
  },
  {
   "cell_type": "code",
   "execution_count": null,
   "id": "rising-sally",
   "metadata": {},
   "outputs": [],
   "source": [
    "equilibrate(input_pdb='solvated_ligand.pdb',\n",
    "                system_xml='system_solvated_ligand.xml',\n",
    "                output_pdb='solvated_ligand.pdb')"
   ]
  },
  {
   "cell_type": "markdown",
   "id": "bottom-birth",
   "metadata": {},
   "source": [
    "# And now the protein ligand complex\n",
    "(In this part it is important that the ligand sdf file and the input pdb file have the atoms in the same order but the xyz positions will be taken from the pdb so don't worry if the sdf has random positions)"
   ]
  },
  {
   "cell_type": "code",
   "execution_count": null,
   "id": "lovely-radiation",
   "metadata": {},
   "outputs": [],
   "source": [
    "protein_ligand_ff = ForceField(*list(water_forcefields + protein_forcefields))\n",
    "\n",
    "protein_ligand_ff.registerTemplateGenerator(ligand_ff_generator.generator)\n",
    "\n",
    "protein_pdb = PDBFile(only_protein_pdb)\n",
    "ligand_pdb = PDBFile(only_ligand_pdb)\n",
    "\n",
    "protein_ligand_modeller = Modeller(protein_pdb.topology, protein_pdb.positions)\n",
    "protein_ligand_modeller.add(mol_topology, ligand_pdb.positions)\n",
    "\n",
    "protein_ligand_modeller.positions, protein_ligand_modeller.topology =  scale_positions_and_update_box_vectors(protein_ligand_modeller.positions, protein_ligand_modeller.topology)\n",
    "\n",
    "protein_ligand_modeller.addSolvent(protein_ligand_ff, model=water_type, padding=1.0*unit.nanometers, neutralize=False)\n",
    "\n",
    "protein_ligand_modeller.positions, protein_ligand_modeller.topology =  scale_positions_and_update_box_vectors(protein_ligand_modeller.positions, protein_ligand_modeller.topology)\n",
    "\n",
    "protein_ligand_system = protein_ligand_ff.createSystem(protein_ligand_modeller.topology, **system_kwargs)\n",
    "\n",
    "with open('system_protein_ligand.xml', 'w') as f:\n",
    "    f.writelines(XmlSerializer.serialize(protein_ligand_system))\n",
    "    \n",
    "with open('new_equilibrated_protein_ligand.pdb', 'w') as outfile:\n",
    "    PDBFile.writeFile(protein_ligand_modeller.topology, protein_ligand_modeller.positions, file=outfile)"
   ]
  },
  {
   "cell_type": "code",
   "execution_count": null,
   "id": "confident-senate",
   "metadata": {},
   "outputs": [],
   "source": [
    "equilibrate(input_pdb='new_equilibrated_protein_ligand.pdb',\n",
    "                system_xml='system_protein_ligand.xml',\n",
    "                output_pdb='new_equilibrated_protein_ligand.pdb')"
   ]
  },
  {
   "cell_type": "markdown",
   "id": "offensive-palestine",
   "metadata": {},
   "source": [
    "# Done, you are ready to go"
   ]
  }
 ],
 "metadata": {
  "kernelspec": {
   "display_name": "Python 3",
   "language": "python",
   "name": "python3"
  },
  "language_info": {
   "codemirror_mode": {
    "name": "ipython",
    "version": 3
   },
   "file_extension": ".py",
   "mimetype": "text/x-python",
   "name": "python",
   "nbconvert_exporter": "python",
   "pygments_lexer": "ipython3",
   "version": "3.7.8"
  }
 },
 "nbformat": 4,
 "nbformat_minor": 5
}
